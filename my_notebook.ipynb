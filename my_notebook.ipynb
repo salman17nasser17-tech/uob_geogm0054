{
 "cells": [
  {
   "cell_type": "code",
   "execution_count": 1,
   "id": "12526e20-2f43-40c7-bc94-80964d3f4180",
   "metadata": {},
   "outputs": [
    {
     "name": "stdout",
     "output_type": "stream",
     "text": [
      "Hello Git! v2\n"
     ]
    }
   ],
   "source": [
    "print(\"Hello Git! v2\")\n"
   ]
  },
  {
   "cell_type": "code",
   "execution_count": null,
   "id": "465fd5f6-372a-44d7-a32b-e34db6afd779",
   "metadata": {},
   "outputs": [],
   "source": []
  }
 ],
 "metadata": {
  "kernelspec": {
   "display_name": "Python [conda env:base] *",
   "language": "python",
   "name": "conda-base-py"
  },
  "language_info": {
   "codemirror_mode": {
    "name": "ipython",
    "version": 3
   },
   "file_extension": ".py",
   "mimetype": "text/x-python",
   "name": "python",
   "nbconvert_exporter": "python",
   "pygments_lexer": "ipython3",
   "version": "3.13.5"
  }
 },
 "nbformat": 4,
 "nbformat_minor": 5
}
